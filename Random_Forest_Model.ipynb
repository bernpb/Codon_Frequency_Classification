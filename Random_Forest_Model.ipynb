{
 "cells": [
  {
   "cell_type": "markdown",
   "id": "912bd4d3-8840-4822-bda2-a5e65c2dcdff",
   "metadata": {},
   "source": [
    "# Random Forest Classification Model\n",
    "\n",
    "Random forest model performed using a standard data science pipeline for all preprocessing and feature engineering steps as well as model fitting and grid search. Testing implementation of a feature union between the principal components and the k best features. \n",
    "\n",
    "The top scores achieved for the model are as follows: <br>\n",
    "\n",
    "Accuracy:  0.807<br>\n",
    "Recall: 0.807<br>\n",
    "Precision:  0.835<br>\n",
    "\n",
    "Top results achieved without applying the featureunion step of the pipeline.\n",
    "\n",
    "### Next steps are to apply PCR and Select K Best within a feature union to the pipeline\n"
   ]
  },
  {
   "cell_type": "code",
   "execution_count": 1,
   "id": "124dfbe6-c742-48bb-b7ac-d0bd84504172",
   "metadata": {},
   "outputs": [],
   "source": [
    "import pandas as pd\n",
    "import numpy as np\n",
    "\n",
    "from sklearn.ensemble import RandomForestClassifier\n",
    "from sklearn.model_selection import GridSearchCV\n",
    "from sklearn.feature_selection import SelectKBest\n",
    "from sklearn.pipeline import Pipeline, FeatureUnion\n",
    "from sklearn.decomposition import PCA\n",
    "from sklearn.preprocessing import OneHotEncoder, RobustScaler, FunctionTransformer\n",
    "from sklearn.compose import ColumnTransformer\n",
    "from sklearn.metrics import accuracy_score, recall_score, precision_score, confusion_matrix\n",
    "\n",
    "import matplotlib.pyplot as plt\n",
    "\n",
    "import functions\n",
    "from functions import get_AA, translation"
   ]
  },
  {
   "cell_type": "code",
   "execution_count": 2,
   "id": "0fd4b5bf-21dd-4ff2-aba9-fab00a797cf5",
   "metadata": {},
   "outputs": [],
   "source": [
    "# Import the training dataset\n",
    "\n",
    "train = pd.read_csv('Data/train.csv',\n",
    "                   low_memory = False)\n",
    "y_train = train['Kingdom']\n",
    "X_train = train.drop(columns = ['Kingdom'],\n",
    "                    axis = 1)"
   ]
  },
  {
   "cell_type": "code",
   "execution_count": 3,
   "id": "b8cfbf71-bb8c-47a4-be78-dc4d15271d05",
   "metadata": {},
   "outputs": [
    {
     "data": {
      "text/plain": [
       "Index(['Unnamed: 0', 'DNAtype', 'SpeciesID', 'Ncodons', 'SpeciesName', 'UUU',\n",
       "       'UUC', 'UUA', 'UUG', 'CUU', 'CUC', 'CUA', 'CUG', 'AUU', 'AUC', 'AUA',\n",
       "       'AUG', 'GUU', 'GUC', 'GUA', 'GUG', 'GCU', 'GCC', 'GCA', 'GCG', 'CCU',\n",
       "       'CCC', 'CCA', 'CCG', 'UGG', 'GGU', 'GGC', 'GGA', 'GGG', 'UCU', 'UCC',\n",
       "       'UCA', 'UCG', 'AGU', 'AGC', 'ACU', 'ACC', 'ACA', 'ACG', 'UAU', 'UAC',\n",
       "       'CAA', 'CAG', 'AAU', 'AAC', 'UGU', 'UGC', 'CAU', 'CAC', 'AAA', 'AAG',\n",
       "       'CGU', 'CGC', 'CGA', 'CGG', 'AGA', 'AGG', 'GAU', 'GAC', 'GAA', 'GAG',\n",
       "       'UAA', 'UAG', 'UGA'],\n",
       "      dtype='object')"
      ]
     },
     "execution_count": 3,
     "metadata": {},
     "output_type": "execute_result"
    }
   ],
   "source": [
    "X_train.columns"
   ]
  },
  {
   "cell_type": "code",
   "execution_count": 4,
   "id": "248d6c61-223e-42b9-b3a2-e28a8a120e70",
   "metadata": {},
   "outputs": [],
   "source": [
    "# Create a list of codon columns and categorical columns for preprocessing in pipeline\n",
    "\n",
    "# Codons columns\n",
    "columns = X_train.columns.tolist()\n",
    "codons = columns\n",
    "unwanted = ['Unnamed: 0', 'DNAtype', 'SpeciesID', 'Ncodons', 'SpeciesName']\n",
    "for ele in unwanted:\n",
    "    codons.remove(ele)\n",
    "\n",
    "# Amino acid columns\n",
    "amino_acids = ['Ala', 'Arg', 'Asn', 'Asp', 'Cys', 'Gln', 'Glu',\n",
    "       'Gly', 'His', 'Ile', 'Leu', 'Lys', 'Met', 'Phe', 'Pro', 'Ser', 'Stop',\n",
    "       'Thr', 'Trp', 'Tyr', 'Val']\n",
    "\n",
    "# Categorical columns\n",
    "\n",
    "categorical_cols = ['DNAtype']\n",
    "\n",
    "# Numeric columns\n",
    "\n",
    "numeric_cols = []\n",
    "\n",
    "for codon in codons:\n",
    "    numeric_cols.append(codon)\n",
    "for aa in amino_acids:\n",
    "    numeric_cols.append(aa)"
   ]
  },
  {
   "cell_type": "code",
   "execution_count": 5,
   "id": "e198f8f8-c487-4284-ab43-3153626aa27b",
   "metadata": {},
   "outputs": [],
   "source": [
    "def get_AA(df):\n",
    "    \n",
    "    \"\"\"\n",
    "    Produce new columns representing amino acid frequency for each observation.\n",
    "    \n",
    "    Inputs: \n",
    "    df - Dataframe containing codon frequencies that we wish get amino acid frequencies for\n",
    "    columns - A list of column labels representing codons\n",
    "    \n",
    "    Output: \n",
    "    \n",
    "    A new dataframe containing both the codon frequencies and the amino acid frequencies\n",
    "    \n",
    "    \"\"\"\n",
    "\n",
    "    # Define a list of codons to use for the translation\n",
    "    \n",
    "    columns = ['UUU', 'UUC', 'UUA', 'UUG', 'CUU', 'CUC', 'CUA', 'CUG', 'AUU', 'AUC', 'AUA',\n",
    "       'AUG', 'GUU', 'GUC', 'GUA', 'GUG', 'GCU', 'GCC', 'GCA', 'GCG', 'CCU',\n",
    "       'CCC', 'CCA', 'CCG', 'UGG', 'GGU', 'GGC', 'GGA', 'GGG', 'UCU', 'UCC',\n",
    "       'UCA', 'UCG', 'AGU', 'AGC', 'ACU', 'ACC', 'ACA', 'ACG', 'UAU', 'UAC',\n",
    "       'CAA', 'CAG', 'AAU', 'AAC', 'UGU', 'UGC', 'CAU', 'CAC', 'AAA', 'AAG',\n",
    "       'CGU', 'CGC', 'CGA', 'CGG', 'AGA', 'AGG', 'GAU', 'GAC', 'GAA', 'GAG',\n",
    "       'UAA', 'UAG', 'UGA']\n",
    "    \n",
    "    # Append 'SpeciesName' to the columns list\n",
    "    \n",
    "    columns.append('SpeciesName')\n",
    "    \n",
    "    # Build a new dataframe with the where the columns are labelled by the amino acid they represent \n",
    "    # rather than the codon they represent\n",
    "    df_AA = df[columns].rename(translation,\n",
    "                     axis = 1)\n",
    "\n",
    "    # Group columns representing the same amino acid by their sums\n",
    "    df_AA = df_AA.groupby(lambda x: x,\n",
    "                         axis = 1).sum()\n",
    "    \n",
    "    # Merge df_AA with df\n",
    "    df = df.merge(df_AA,\n",
    "            on = 'SpeciesName',\n",
    "                 how = 'right')\n",
    "    return df"
   ]
  },
  {
   "cell_type": "markdown",
   "id": "24ed9628-fe9e-4a23-abae-451718a7dfed",
   "metadata": {},
   "source": [
    "#### Feature engineering "
   ]
  },
  {
   "cell_type": "code",
   "execution_count": 6,
   "id": "e9ce0397-8b68-4aa2-9e33-40b055b71c63",
   "metadata": {},
   "outputs": [],
   "source": [
    "# Define the custom transformers for feature engineering\n",
    "\n",
    "AA_transformer = FunctionTransformer(get_AA)  # Get the amino acid frequencies for each organism\n",
    "\n",
    "\n",
    "# Instantiate the feature engineering pipeline\n",
    "\n",
    "engineering = Pipeline([('amino', AA_transformer)])"
   ]
  },
  {
   "cell_type": "markdown",
   "id": "2c1ed024-7a7f-47c6-9c20-36c3c54e7f05",
   "metadata": {},
   "source": [
    "####  Preprocessing"
   ]
  },
  {
   "cell_type": "code",
   "execution_count": 7,
   "id": "0ca43772-9ada-416f-90d1-f4b838b06aae",
   "metadata": {},
   "outputs": [
    {
     "name": "stdout",
     "output_type": "stream",
     "text": [
      "['UUU', 'UUC', 'UUA', 'UUG', 'CUU', 'CUC', 'CUA', 'CUG', 'AUU', 'AUC', 'AUA', 'AUG', 'GUU', 'GUC', 'GUA', 'GUG', 'GCU', 'GCC', 'GCA', 'GCG', 'CCU', 'CCC', 'CCA', 'CCG', 'UGG', 'GGU', 'GGC', 'GGA', 'GGG', 'UCU', 'UCC', 'UCA', 'UCG', 'AGU', 'AGC', 'ACU', 'ACC', 'ACA', 'ACG', 'UAU', 'UAC', 'CAA', 'CAG', 'AAU', 'AAC', 'UGU', 'UGC', 'CAU', 'CAC', 'AAA', 'AAG', 'CGU', 'CGC', 'CGA', 'CGG', 'AGA', 'AGG', 'GAU', 'GAC', 'GAA', 'GAG', 'UAA', 'UAG', 'UGA', 'Ala', 'Arg', 'Asn', 'Asp', 'Cys', 'Gln', 'Glu', 'Gly', 'His', 'Ile', 'Leu', 'Lys', 'Met', 'Phe', 'Pro', 'Ser', 'Stop', 'Thr', 'Trp', 'Tyr', 'Val']\n"
     ]
    }
   ],
   "source": [
    "print(numeric_cols)"
   ]
  },
  {
   "cell_type": "code",
   "execution_count": 8,
   "id": "1fa0d1ea-d469-4da6-9443-66787f945433",
   "metadata": {},
   "outputs": [],
   "source": [
    "# define preprocessing steps for categorical features\n",
    "\n",
    "cat_transform = Pipeline([('ohc', OneHotEncoder(handle_unknown = 'ignore'))])\n",
    "\n",
    "# Define preprocessing steps for numerical features\n",
    "\n",
    "num_transform = Pipeline([('scaler', RobustScaler())])\n",
    "\n",
    "# Instantiate the column transformer for preprocessing\n",
    "\n",
    "preprocessing = ColumnTransformer([('cat', cat_transform, categorical_cols),\n",
    "                                  ('num', num_transform, numeric_cols)])"
   ]
  },
  {
   "cell_type": "code",
   "execution_count": 9,
   "id": "dc81446f-c854-4933-8abc-1a919b79261f",
   "metadata": {},
   "outputs": [
    {
     "data": {
      "text/plain": [
       "array([3.45760799e-01, 2.35926817e-01, 5.70537800e-02, 4.22200026e-02,\n",
       "       3.53675405e-02, 3.07483644e-02, 2.41544722e-02, 1.93222293e-02,\n",
       "       1.78603577e-02, 1.42954437e-02, 1.37174000e-02, 1.14953481e-02,\n",
       "       1.11546453e-02, 9.41228218e-03, 8.10193715e-03, 8.07277380e-03,\n",
       "       7.26270758e-03, 6.96557740e-03, 6.35972090e-03, 5.98173420e-03,\n",
       "       5.61196551e-03, 5.25401945e-03, 4.96936169e-03, 4.81884094e-03,\n",
       "       4.31334270e-03, 4.09320168e-03, 3.74601240e-03, 3.59322272e-03,\n",
       "       3.47901152e-03, 3.33195744e-03, 3.12836764e-03, 3.05777832e-03,\n",
       "       2.58152542e-03, 2.45296079e-03, 2.29328676e-03, 2.11887231e-03,\n",
       "       2.08084815e-03, 1.96201537e-03, 1.79439760e-03, 1.74613046e-03,\n",
       "       1.72341782e-03, 1.56822109e-03, 1.52294352e-03, 1.45066366e-03,\n",
       "       1.39508209e-03, 1.35475360e-03, 1.25232137e-03, 1.24220979e-03,\n",
       "       1.22368357e-03, 1.15222248e-03, 1.03914659e-03, 9.45975748e-04,\n",
       "       8.66072162e-04, 8.08153188e-04, 7.86221536e-04, 7.58409603e-04,\n",
       "       6.73912214e-04, 6.49631833e-04, 6.11213236e-04, 5.74996070e-04,\n",
       "       4.76361077e-04, 2.10834789e-04, 5.24967352e-05, 3.87298413e-09,\n",
       "       3.14723984e-33, 1.99931914e-33, 1.57128106e-33, 1.57128106e-33,\n",
       "       1.57128106e-33, 1.57128106e-33, 1.57128106e-33, 1.57128106e-33,\n",
       "       1.57128106e-33, 1.57128106e-33, 1.57128106e-33, 1.57128106e-33,\n",
       "       1.57128106e-33, 1.57128106e-33, 1.57128106e-33, 1.57128106e-33,\n",
       "       1.57128106e-33, 1.57128106e-33, 1.57128106e-33, 1.57128106e-33,\n",
       "       1.47534617e-33])"
      ]
     },
     "execution_count": 9,
     "metadata": {},
     "output_type": "execute_result"
    }
   ],
   "source": [
    "# Principal component analysis\n",
    "\n",
    "# Fit transform with the AA_transformer\n",
    "df_AA = engineering.fit_transform(X_train)\n",
    "\n",
    "# Instantiate the PCA \n",
    "components = 85\n",
    "pca = PCA(n_components = components)\n",
    "\n",
    "# Fit transform df_AA with the pca instance\n",
    "df_PCA = pca.fit_transform(df_AA[numeric_cols])\n",
    "pca.explained_variance_ratio_"
   ]
  },
  {
   "cell_type": "code",
   "execution_count": 10,
   "id": "bddfea2d-fa84-40bb-a8c2-70c0dc6bd374",
   "metadata": {},
   "outputs": [
    {
     "data": {
      "image/png": "[encoded data removed]",
      "text/plain": [
       "<Figure size 1080x864 with 1 Axes>"
      ]
     },
     "metadata": {
      "needs_background": "light"
     },
     "output_type": "display_data"
    }
   ],
   "source": [
    "# Plot the explained variance ratio of each component to determine the optimal number of components\n",
    "\n",
    "plt.figure(figsize = (15,12))\n",
    "plt.bar(x = [i for i in range(components)],\n",
    "       height = pca.explained_variance_ratio_)\n",
    "\n",
    "plt.show()"
   ]
  },
  {
   "cell_type": "code",
   "execution_count": 11,
   "id": "b5872769-9875-4ce9-b80d-4f37b68d4e70",
   "metadata": {},
   "outputs": [],
   "source": [
    "# Implement a PCA and SelectKBest\n",
    "\n",
    "feature_union = FeatureUnion([('pca', PCA()),\n",
    "                             ('kbest', SelectKBest())])"
   ]
  },
  {
   "cell_type": "markdown",
   "id": "da3b7bd0-1f9f-4fa9-b188-1e85411618fe",
   "metadata": {},
   "source": [
    "#### Modelling Pipeline"
   ]
  },
  {
   "cell_type": "code",
   "execution_count": 12,
   "id": "a610a2b6-7990-4528-82b1-6160a0173e28",
   "metadata": {},
   "outputs": [],
   "source": [
    "# Instantiate a pipeline with random forest model \n",
    "\n",
    "pipeline = Pipeline([('engineering', engineering),\n",
    "                    ('preprocessing', preprocessing),\n",
    "                     ('features', feature_union),\n",
    "                    ('model', RandomForestClassifier())])"
   ]
  },
  {
   "cell_type": "code",
   "execution_count": 13,
   "id": "144cadc1-4346-431d-a4f1-ff885543610b",
   "metadata": {},
   "outputs": [],
   "source": [
    "# Set the parameters to be used with grid search\n",
    "\n",
    "params = {'features__pca__n_components': [12],\n",
    "          'features__kbest__k': [5, 10, 15],\n",
    "        'model__n_estimators': [75, 150],\n",
    "         'model__max_depth': [5, 7]}\n",
    "\n",
    "\n",
    "grid_search = GridSearchCV(pipeline,\n",
    "                          param_grid = params,\n",
    "                          cv = 10,\n",
    "                          verbose = 3)"
   ]
  },
  {
   "cell_type": "code",
   "execution_count": 14,
   "id": "907f9954-a1a1-43f2-a4d3-852eebca3a7f",
   "metadata": {},
   "outputs": [
    {
     "data": {
      "text/plain": [
       "(9760, 69)"
      ]
     },
     "execution_count": 14,
     "metadata": {},
     "output_type": "execute_result"
    }
   ],
   "source": [
    "X_train.shape"
   ]
  },
  {
   "cell_type": "code",
   "execution_count": 15,
   "id": "81e044be-73b6-44ef-8f62-a710d20633dc",
   "metadata": {},
   "outputs": [
    {
     "name": "stdout",
     "output_type": "stream",
     "text": [
      "Fitting 10 folds for each of 12 candidates, totalling 120 fits\n",
      "[CV 1/10] END features__kbest__k=5, features__pca__n_components=12, model__max_depth=5, model__n_estimators=75;, score=0.716 total time=   2.4s\n",
      "[CV 2/10] END features__kbest__k=5, features__pca__n_components=12, model__max_depth=5, model__n_estimators=75;, score=0.721 total time=   2.4s\n",
      "[CV 3/10] END features__kbest__k=5, features__pca__n_components=12, model__max_depth=5, model__n_estimators=75;, score=0.694 total time=   2.4s\n",
      "[CV 4/10] END features__kbest__k=5, features__pca__n_components=12, model__max_depth=5, model__n_estimators=75;, score=0.718 total time=   2.5s\n",
      "[CV 5/10] END features__kbest__k=5, features__pca__n_components=12, model__max_depth=5, model__n_estimators=75;, score=0.703 total time=   2.5s\n",
      "[CV 6/10] END features__kbest__k=5, features__pca__n_components=12, model__max_depth=5, model__n_estimators=75;, score=0.731 total time=   2.4s\n",
      "[CV 7/10] END features__kbest__k=5, features__pca__n_components=12, model__max_depth=5, model__n_estimators=75;, score=0.713 total time=   2.4s\n",
      "[CV 8/10] END features__kbest__k=5, features__pca__n_components=12, model__max_depth=5, model__n_estimators=75;, score=0.716 total time=   2.4s\n",
      "[CV 9/10] END features__kbest__k=5, features__pca__n_components=12, model__max_depth=5, model__n_estimators=75;, score=0.707 total time=   2.4s\n",
      "[CV 10/10] END features__kbest__k=5, features__pca__n_components=12, model__max_depth=5, model__n_estimators=75;, score=0.709 total time=   2.4s\n",
      "[CV 1/10] END features__kbest__k=5, features__pca__n_components=12, model__max_depth=5, model__n_estimators=150;, score=0.718 total time=   3.3s\n",
      "[CV 2/10] END features__kbest__k=5, features__pca__n_components=12, model__max_depth=5, model__n_estimators=150;, score=0.723 total time=   3.3s\n",
      "[CV 3/10] END features__kbest__k=5, features__pca__n_components=12, model__max_depth=5, model__n_estimators=150;, score=0.700 total time=   3.3s\n",
      "[CV 4/10] END features__kbest__k=5, features__pca__n_components=12, model__max_depth=5, model__n_estimators=150;, score=0.717 total time=   3.3s\n",
      "[CV 5/10] END features__kbest__k=5, features__pca__n_components=12, model__max_depth=5, model__n_estimators=150;, score=0.701 total time=   3.3s\n",
      "[CV 6/10] END features__kbest__k=5, features__pca__n_components=12, model__max_depth=5, model__n_estimators=150;, score=0.732 total time=   3.3s\n",
      "[CV 7/10] END features__kbest__k=5, features__pca__n_components=12, model__max_depth=5, model__n_estimators=150;, score=0.722 total time=   3.3s\n",
      "[CV 8/10] END features__kbest__k=5, features__pca__n_components=12, model__max_depth=5, model__n_estimators=150;, score=0.718 total time=   3.7s\n",
      "[CV 9/10] END features__kbest__k=5, features__pca__n_components=12, model__max_depth=5, model__n_estimators=150;, score=0.714 total time=   3.3s\n",
      "[CV 10/10] END features__kbest__k=5, features__pca__n_components=12, model__max_depth=5, model__n_estimators=150;, score=0.703 total time=   3.3s\n",
      "[CV 1/10] END features__kbest__k=5, features__pca__n_components=12, model__max_depth=7, model__n_estimators=75;, score=0.779 total time=   2.7s\n",
      "[CV 2/10] END features__kbest__k=5, features__pca__n_components=12, model__max_depth=7, model__n_estimators=75;, score=0.779 total time=   2.7s\n",
      "[CV 3/10] END features__kbest__k=5, features__pca__n_components=12, model__max_depth=7, model__n_estimators=75;, score=0.756 total time=   2.8s\n",
      "[CV 4/10] END features__kbest__k=5, features__pca__n_components=12, model__max_depth=7, model__n_estimators=75;, score=0.769 total time=   2.7s\n",
      "[CV 5/10] END features__kbest__k=5, features__pca__n_components=12, model__max_depth=7, model__n_estimators=75;, score=0.745 total time=   2.7s\n",
      "[CV 6/10] END features__kbest__k=5, features__pca__n_components=12, model__max_depth=7, model__n_estimators=75;, score=0.780 total time=   2.7s\n",
      "[CV 7/10] END features__kbest__k=5, features__pca__n_components=12, model__max_depth=7, model__n_estimators=75;, score=0.772 total time=   2.7s\n",
      "[CV 8/10] END features__kbest__k=5, features__pca__n_components=12, model__max_depth=7, model__n_estimators=75;, score=0.757 total time=   2.7s\n",
      "[CV 9/10] END features__kbest__k=5, features__pca__n_components=12, model__max_depth=7, model__n_estimators=75;, score=0.766 total time=   2.7s\n",
      "[CV 10/10] END features__kbest__k=5, features__pca__n_components=12, model__max_depth=7, model__n_estimators=75;, score=0.758 total time=   2.7s\n",
      "[CV 1/10] END features__kbest__k=5, features__pca__n_components=12, model__max_depth=7, model__n_estimators=150;, score=0.783 total time=   3.7s\n",
      "[CV 2/10] END features__kbest__k=5, features__pca__n_components=12, model__max_depth=7, model__n_estimators=150;, score=0.779 total time=   3.8s\n",
      "[CV 3/10] END features__kbest__k=5, features__pca__n_components=12, model__max_depth=7, model__n_estimators=150;, score=0.744 total time=   3.8s\n",
      "[CV 4/10] END features__kbest__k=5, features__pca__n_components=12, model__max_depth=7, model__n_estimators=150;, score=0.770 total time=   3.8s\n",
      "[CV 5/10] END features__kbest__k=5, features__pca__n_components=12, model__max_depth=7, model__n_estimators=150;, score=0.747 total time=   3.8s\n",
      "[CV 6/10] END features__kbest__k=5, features__pca__n_components=12, model__max_depth=7, model__n_estimators=150;, score=0.775 total time=   3.8s\n",
      "[CV 7/10] END features__kbest__k=5, features__pca__n_components=12, model__max_depth=7, model__n_estimators=150;, score=0.764 total time=   3.8s\n",
      "[CV 8/10] END features__kbest__k=5, features__pca__n_components=12, model__max_depth=7, model__n_estimators=150;, score=0.763 total time=   3.8s\n",
      "[CV 9/10] END features__kbest__k=5, features__pca__n_components=12, model__max_depth=7, model__n_estimators=150;, score=0.772 total time=   3.8s\n",
      "[CV 10/10] END features__kbest__k=5, features__pca__n_components=12, model__max_depth=7, model__n_estimators=150;, score=0.758 total time=   3.7s\n",
      "[CV 1/10] END features__kbest__k=10, features__pca__n_components=12, model__max_depth=5, model__n_estimators=75;, score=0.725 total time=   2.4s\n",
      "[CV 2/10] END features__kbest__k=10, features__pca__n_components=12, model__max_depth=5, model__n_estimators=75;, score=0.723 total time=   2.4s\n",
      "[CV 3/10] END features__kbest__k=10, features__pca__n_components=12, model__max_depth=5, model__n_estimators=75;, score=0.705 total time=   2.4s\n",
      "[CV 4/10] END features__kbest__k=10, features__pca__n_components=12, model__max_depth=5, model__n_estimators=75;, score=0.727 total time=   2.4s\n",
      "[CV 5/10] END features__kbest__k=10, features__pca__n_components=12, model__max_depth=5, model__n_estimators=75;, score=0.717 total time=   2.4s\n",
      "[CV 6/10] END features__kbest__k=10, features__pca__n_components=12, model__max_depth=5, model__n_estimators=75;, score=0.734 total time=   2.4s\n",
      "[CV 7/10] END features__kbest__k=10, features__pca__n_components=12, model__max_depth=5, model__n_estimators=75;, score=0.724 total time=   2.4s\n",
      "[CV 8/10] END features__kbest__k=10, features__pca__n_components=12, model__max_depth=5, model__n_estimators=75;, score=0.716 total time=   2.4s\n",
      "[CV 9/10] END features__kbest__k=10, features__pca__n_components=12, model__max_depth=5, model__n_estimators=75;, score=0.716 total time=   2.4s\n",
      "[CV 10/10] END features__kbest__k=10, features__pca__n_components=12, model__max_depth=5, model__n_estimators=75;, score=0.710 total time=   2.4s\n",
      "[CV 1/10] END features__kbest__k=10, features__pca__n_components=12, model__max_depth=5, model__n_estimators=150;, score=0.740 total time=   3.2s\n",
      "[CV 2/10] END features__kbest__k=10, features__pca__n_components=12, model__max_depth=5, model__n_estimators=150;, score=0.724 total time=   3.2s\n",
      "[CV 3/10] END features__kbest__k=10, features__pca__n_components=12, model__max_depth=5, model__n_estimators=150;, score=0.711 total time=   3.2s\n",
      "[CV 4/10] END features__kbest__k=10, features__pca__n_components=12, model__max_depth=5, model__n_estimators=150;, score=0.722 total time=   3.2s\n",
      "[CV 5/10] END features__kbest__k=10, features__pca__n_components=12, model__max_depth=5, model__n_estimators=150;, score=0.718 total time=   3.2s\n",
      "[CV 6/10] END features__kbest__k=10, features__pca__n_components=12, model__max_depth=5, model__n_estimators=150;, score=0.736 total time=   3.2s\n",
      "[CV 7/10] END features__kbest__k=10, features__pca__n_components=12, model__max_depth=5, model__n_estimators=150;, score=0.734 total time=   3.2s\n",
      "[CV 8/10] END features__kbest__k=10, features__pca__n_components=12, model__max_depth=5, model__n_estimators=150;, score=0.718 total time=   3.2s\n",
      "[CV 9/10] END features__kbest__k=10, features__pca__n_components=12, model__max_depth=5, model__n_estimators=150;, score=0.713 total time=   3.3s\n",
      "[CV 10/10] END features__kbest__k=10, features__pca__n_components=12, model__max_depth=5, model__n_estimators=150;, score=0.714 total time=   3.2s\n",
      "[CV 1/10] END features__kbest__k=10, features__pca__n_components=12, model__max_depth=7, model__n_estimators=75;, score=0.785 total time=   2.6s\n",
      "[CV 2/10] END features__kbest__k=10, features__pca__n_components=12, model__max_depth=7, model__n_estimators=75;, score=0.781 total time=   2.7s\n",
      "[CV 3/10] END features__kbest__k=10, features__pca__n_components=12, model__max_depth=7, model__n_estimators=75;, score=0.759 total time=   2.7s\n",
      "[CV 4/10] END features__kbest__k=10, features__pca__n_components=12, model__max_depth=7, model__n_estimators=75;, score=0.782 total time=   2.7s\n",
      "[CV 5/10] END features__kbest__k=10, features__pca__n_components=12, model__max_depth=7, model__n_estimators=75;, score=0.762 total time=   2.6s\n",
      "[CV 6/10] END features__kbest__k=10, features__pca__n_components=12, model__max_depth=7, model__n_estimators=75;, score=0.784 total time=   2.6s\n",
      "[CV 7/10] END features__kbest__k=10, features__pca__n_components=12, model__max_depth=7, model__n_estimators=75;, score=0.774 total time=   2.6s\n",
      "[CV 8/10] END features__kbest__k=10, features__pca__n_components=12, model__max_depth=7, model__n_estimators=75;, score=0.759 total time=   2.7s\n",
      "[CV 9/10] END features__kbest__k=10, features__pca__n_components=12, model__max_depth=7, model__n_estimators=75;, score=0.773 total time=   2.6s\n",
      "[CV 10/10] END features__kbest__k=10, features__pca__n_components=12, model__max_depth=7, model__n_estimators=75;, score=0.754 total time=   2.6s\n",
      "[CV 1/10] END features__kbest__k=10, features__pca__n_components=12, model__max_depth=7, model__n_estimators=150;, score=0.784 total time=   3.7s\n",
      "[CV 2/10] END features__kbest__k=10, features__pca__n_components=12, model__max_depth=7, model__n_estimators=150;, score=0.782 total time=   3.7s\n",
      "[CV 3/10] END features__kbest__k=10, features__pca__n_components=12, model__max_depth=7, model__n_estimators=150;, score=0.762 total time=   3.7s\n",
      "[CV 4/10] END features__kbest__k=10, features__pca__n_components=12, model__max_depth=7, model__n_estimators=150;, score=0.777 total time=   3.7s\n",
      "[CV 5/10] END features__kbest__k=10, features__pca__n_components=12, model__max_depth=7, model__n_estimators=150;, score=0.767 total time=   3.7s\n",
      "[CV 6/10] END features__kbest__k=10, features__pca__n_components=12, model__max_depth=7, model__n_estimators=150;, score=0.781 total time=   3.7s\n",
      "[CV 7/10] END features__kbest__k=10, features__pca__n_components=12, model__max_depth=7, model__n_estimators=150;, score=0.772 total time=   3.7s\n",
      "[CV 8/10] END features__kbest__k=10, features__pca__n_components=12, model__max_depth=7, model__n_estimators=150;, score=0.761 total time=   3.7s\n",
      "[CV 9/10] END features__kbest__k=10, features__pca__n_components=12, model__max_depth=7, model__n_estimators=150;, score=0.764 total time=   3.8s\n",
      "[CV 10/10] END features__kbest__k=10, features__pca__n_components=12, model__max_depth=7, model__n_estimators=150;, score=0.764 total time=   3.8s\n",
      "[CV 1/10] END features__kbest__k=15, features__pca__n_components=12, model__max_depth=5, model__n_estimators=75;, score=0.754 total time=   2.6s\n",
      "[CV 2/10] END features__kbest__k=15, features__pca__n_components=12, model__max_depth=5, model__n_estimators=75;, score=0.745 total time=   2.5s\n",
      "[CV 3/10] END features__kbest__k=15, features__pca__n_components=12, model__max_depth=5, model__n_estimators=75;, score=0.713 total time=   2.5s\n",
      "[CV 4/10] END features__kbest__k=15, features__pca__n_components=12, model__max_depth=5, model__n_estimators=75;, score=0.738 total time=   2.5s\n",
      "[CV 5/10] END features__kbest__k=15, features__pca__n_components=12, model__max_depth=5, model__n_estimators=75;, score=0.732 total time=   2.5s\n",
      "[CV 6/10] END features__kbest__k=15, features__pca__n_components=12, model__max_depth=5, model__n_estimators=75;, score=0.743 total time=   2.6s\n",
      "[CV 7/10] END features__kbest__k=15, features__pca__n_components=12, model__max_depth=5, model__n_estimators=75;, score=0.735 total time=   2.6s\n",
      "[CV 8/10] END features__kbest__k=15, features__pca__n_components=12, model__max_depth=5, model__n_estimators=75;, score=0.718 total time=   2.6s\n",
      "[CV 9/10] END features__kbest__k=15, features__pca__n_components=12, model__max_depth=5, model__n_estimators=75;, score=0.728 total time=   2.6s\n",
      "[CV 10/10] END features__kbest__k=15, features__pca__n_components=12, model__max_depth=5, model__n_estimators=75;, score=0.722 total time=   2.6s\n",
      "[CV 1/10] END features__kbest__k=15, features__pca__n_components=12, model__max_depth=5, model__n_estimators=150;, score=0.752 total time=   3.6s\n",
      "[CV 2/10] END features__kbest__k=15, features__pca__n_components=12, model__max_depth=5, model__n_estimators=150;, score=0.740 total time=   3.5s\n",
      "[CV 3/10] END features__kbest__k=15, features__pca__n_components=12, model__max_depth=5, model__n_estimators=150;, score=0.720 total time=   3.5s\n",
      "[CV 4/10] END features__kbest__k=15, features__pca__n_components=12, model__max_depth=5, model__n_estimators=150;, score=0.744 total time=   3.5s\n",
      "[CV 5/10] END features__kbest__k=15, features__pca__n_components=12, model__max_depth=5, model__n_estimators=150;, score=0.726 total time=   3.5s\n",
      "[CV 6/10] END features__kbest__k=15, features__pca__n_components=12, model__max_depth=5, model__n_estimators=150;, score=0.742 total time=   3.5s\n",
      "[CV 7/10] END features__kbest__k=15, features__pca__n_components=12, model__max_depth=5, model__n_estimators=150;, score=0.730 total time=   3.5s\n",
      "[CV 8/10] END features__kbest__k=15, features__pca__n_components=12, model__max_depth=5, model__n_estimators=150;, score=0.723 total time=   3.5s\n",
      "[CV 9/10] END features__kbest__k=15, features__pca__n_components=12, model__max_depth=5, model__n_estimators=150;, score=0.734 total time=   3.6s\n",
      "[CV 10/10] END features__kbest__k=15, features__pca__n_components=12, model__max_depth=5, model__n_estimators=150;, score=0.712 total time=   3.6s\n",
      "[CV 1/10] END features__kbest__k=15, features__pca__n_components=12, model__max_depth=7, model__n_estimators=75;, score=0.788 total time=   2.9s\n",
      "[CV 2/10] END features__kbest__k=15, features__pca__n_components=12, model__max_depth=7, model__n_estimators=75;, score=0.789 total time=   2.9s\n",
      "[CV 3/10] END features__kbest__k=15, features__pca__n_components=12, model__max_depth=7, model__n_estimators=75;, score=0.762 total time=   2.8s\n",
      "[CV 4/10] END features__kbest__k=15, features__pca__n_components=12, model__max_depth=7, model__n_estimators=75;, score=0.796 total time=   2.9s\n",
      "[CV 5/10] END features__kbest__k=15, features__pca__n_components=12, model__max_depth=7, model__n_estimators=75;, score=0.768 total time=   2.8s\n",
      "[CV 6/10] END features__kbest__k=15, features__pca__n_components=12, model__max_depth=7, model__n_estimators=75;, score=0.781 total time=   2.9s\n",
      "[CV 7/10] END features__kbest__k=15, features__pca__n_components=12, model__max_depth=7, model__n_estimators=75;, score=0.787 total time=   2.8s\n",
      "[CV 8/10] END features__kbest__k=15, features__pca__n_components=12, model__max_depth=7, model__n_estimators=75;, score=0.766 total time=   2.9s\n",
      "[CV 9/10] END features__kbest__k=15, features__pca__n_components=12, model__max_depth=7, model__n_estimators=75;, score=0.781 total time=   2.9s\n",
      "[CV 10/10] END features__kbest__k=15, features__pca__n_components=12, model__max_depth=7, model__n_estimators=75;, score=0.766 total time=   2.8s\n",
      "[CV 1/10] END features__kbest__k=15, features__pca__n_components=12, model__max_depth=7, model__n_estimators=150;, score=0.793 total time=   4.1s\n",
      "[CV 2/10] END features__kbest__k=15, features__pca__n_components=12, model__max_depth=7, model__n_estimators=150;, score=0.790 total time=   4.1s\n",
      "[CV 3/10] END features__kbest__k=15, features__pca__n_components=12, model__max_depth=7, model__n_estimators=150;, score=0.775 total time=   4.4s\n",
      "[CV 4/10] END features__kbest__k=15, features__pca__n_components=12, model__max_depth=7, model__n_estimators=150;, score=0.792 total time=   4.2s\n",
      "[CV 5/10] END features__kbest__k=15, features__pca__n_components=12, model__max_depth=7, model__n_estimators=150;, score=0.773 total time=   4.1s\n",
      "[CV 6/10] END features__kbest__k=15, features__pca__n_components=12, model__max_depth=7, model__n_estimators=150;, score=0.781 total time=   4.1s\n",
      "[CV 7/10] END features__kbest__k=15, features__pca__n_components=12, model__max_depth=7, model__n_estimators=150;, score=0.792 total time=   4.2s\n",
      "[CV 8/10] END features__kbest__k=15, features__pca__n_components=12, model__max_depth=7, model__n_estimators=150;, score=0.776 total time=   4.1s\n",
      "[CV 9/10] END features__kbest__k=15, features__pca__n_components=12, model__max_depth=7, model__n_estimators=150;, score=0.784 total time=   4.1s\n",
      "[CV 10/10] END features__kbest__k=15, features__pca__n_components=12, model__max_depth=7, model__n_estimators=150;, score=0.766 total time=   4.1s\n"
     ]
    },
    {
     "data": {
      "text/plain": [
       "GridSearchCV(cv=10,\n",
       "             estimator=Pipeline(steps=[('engineering',\n",
       "                                        Pipeline(steps=[('amino',\n",
       "                                                         FunctionTransformer(func=<function get_AA at 0x7fb74fc3e560>))])),\n",
       "                                       ('preprocessing',\n",
       "                                        ColumnTransformer(transformers=[('cat',\n",
       "                                                                         Pipeline(steps=[('ohc',\n",
       "                                                                                          OneHotEncoder(handle_unknown='ignore'))]),\n",
       "                                                                         ['DNAtype']),\n",
       "                                                                        ('num',\n",
       "                                                                         Pipeline(steps=[('scaler',\n",
       "                                                                                          RobustScaler())]),\n",
       "                                                                         ['UUU',\n",
       "                                                                          'UUC',\n",
       "                                                                          'UUA...\n",
       "                                                                          'GCC',\n",
       "                                                                          'GCA',\n",
       "                                                                          'GCG',\n",
       "                                                                          'CCU',\n",
       "                                                                          'CCC',\n",
       "                                                                          'CCA',\n",
       "                                                                          'CCG',\n",
       "                                                                          'UGG',\n",
       "                                                                          'GGU',\n",
       "                                                                          'GGC',\n",
       "                                                                          'GGA',\n",
       "                                                                          'GGG',\n",
       "                                                                          'UCU', ...])])),\n",
       "                                       ('features',\n",
       "                                        FeatureUnion(transformer_list=[('pca',\n",
       "                                                                        PCA()),\n",
       "                                                                       ('kbest',\n",
       "                                                                        SelectKBest())])),\n",
       "                                       ('model', RandomForestClassifier())]),\n",
       "             param_grid={'features__kbest__k': [5, 10, 15],\n",
       "                         'features__pca__n_components': [12],\n",
       "                         'model__max_depth': [5, 7],\n",
       "                         'model__n_estimators': [75, 150]},\n",
       "             verbose=3)"
      ]
     },
     "execution_count": 15,
     "metadata": {},
     "output_type": "execute_result"
    }
   ],
   "source": [
    "# Fit the grid search\n",
    "\n",
    "grid_search.fit(X_train, y_train)"
   ]
  },
  {
   "cell_type": "code",
   "execution_count": 16,
   "id": "d614e928-e4de-41ec-b6fb-507024e9012f",
   "metadata": {},
   "outputs": [
    {
     "data": {
      "text/plain": [
       "0.7820696721311474"
      ]
     },
     "execution_count": 16,
     "metadata": {},
     "output_type": "execute_result"
    }
   ],
   "source": [
    "grid_search.best_score_"
   ]
  },
  {
   "cell_type": "code",
   "execution_count": 17,
   "id": "fd27e463-19ac-4dd7-b033-07b5414f01dc",
   "metadata": {},
   "outputs": [],
   "source": [
    "# Import the test dataset\n",
    "\n",
    "test = pd.read_csv('Data/test.csv',\n",
    "                   low_memory = False)\n",
    "y_test = test['Kingdom']\n",
    "X_test = test.drop(columns = ['Kingdom'],\n",
    "                    axis = 1)"
   ]
  },
  {
   "cell_type": "code",
   "execution_count": 18,
   "id": "a80aca48-9e8b-4f24-90a8-8137a48b4727",
   "metadata": {},
   "outputs": [],
   "source": [
    "# Make predictions using the fitted model\n",
    "\n",
    "preds = grid_search.predict(X_test)"
   ]
  },
  {
   "cell_type": "code",
   "execution_count": 19,
   "id": "5136f4d1-de72-4f99-828d-a53689881cbd",
   "metadata": {},
   "outputs": [
    {
     "name": "stdout",
     "output_type": "stream",
     "text": [
      "Accuracy: 0.784880147510756\n",
      "Recall: 0.784880147510756\n",
      "Precision: 0.812233743434307\n",
      "Confusion Matrix: \n",
      " [[  0  18   0   0   0   0   8   0   0   2   0]\n",
      " [  0 679   2   0   0   0  22   0   0  19   0]\n",
      " [  0  39 125   0   0   0  83   0   0  94   3]\n",
      " [  0   0   0 110   0   0  11   0   1  11   9]\n",
      " [  0  42   0   0   5   0   7   0   0   6   0]\n",
      " [  0   6   0   0   0   0   0   0   0   0   0]\n",
      " [  0  21   0   0   0   0 537   0   0  93   1]\n",
      " [  0   0   0   7   0   0   3   8   1  15  16]\n",
      " [  0   0   0  18   0   0   2   0  18  10   2]\n",
      " [  0  26   1   0   0   0  20   0   0 675   0]\n",
      " [  0   1   7   8   0   0  19   0   0  46 397]]\n"
     ]
    }
   ],
   "source": [
    "# Check the metric scores\n",
    "\n",
    "print(f'Accuracy: {accuracy_score(y_test, preds)}')\n",
    "print(f'Recall: {recall_score(y_test, preds, average = \"weighted\")}')\n",
    "print(f'Precision: {precision_score(y_test, preds, average = \"weighted\", zero_division = 1)}')\n",
    "print(f'Confusion Matrix: \\n {confusion_matrix(y_test, preds)}')"
   ]
  },
  {
   "cell_type": "code",
   "execution_count": null,
   "id": "bab3d45a-d818-4384-8753-4e3ef0dcb2eb",
   "metadata": {},
   "outputs": [],
   "source": []
  }
 ],
 "metadata": {
  "kernelspec": {
   "display_name": "Python [conda env:codon]",
   "language": "python",
   "name": "conda-env-codon-py"
  },
  "language_info": {
   "codemirror_mode": {
    "name": "ipython",
    "version": 3
   },
   "file_extension": ".py",
   "mimetype": "text/x-python",
   "name": "python",
   "nbconvert_exporter": "python",
   "pygments_lexer": "ipython3",
   "version": "3.7.12"
  }
 },
 "nbformat": 4,
 "nbformat_minor": 5
}
