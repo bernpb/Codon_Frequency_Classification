{
  "nbformat": 4,
  "nbformat_minor": 0,
  "metadata": {
    "colab": {
      "name": "3-6_Regression_House_Prices.ipynb",
      "provenance": [],
      "authorship_tag": "ABX9TyPLrK+P2Kcvc75A0aw8EWoI",
      "include_colab_link": true
    },
    "kernelspec": {
      "name": "python3",
      "display_name": "Python 3"
    },
    "language_info": {
      "name": "python"
    }
  },
  "cells": [
    {
      "cell_type": "markdown",
      "metadata": {
        "id": "view-in-github",
        "colab_type": "text"
      },
      "source": [
        "<a href=\"https://colab.research.google.com/github/bernpb/Codon_Frequency_Classification/blob/main/3-6_Regression_House_Prices.ipynb\" target=\"_parent\"><img src=\"https://colab.research.google.com/assets/colab-badge.svg\" alt=\"Open In Colab\"/></a>"
      ]
    },
    {
      "cell_type": "markdown",
      "source": [
        "# Using Neural Networks to Solve Regression Problems"
      ],
      "metadata": {
        "id": "X4OZOMh9nrBM"
      }
    },
    {
      "cell_type": "code",
      "execution_count": 1,
      "metadata": {
        "colab": {
          "base_uri": "https://localhost:8080/"
        },
        "id": "vj0sbZItm_SO",
        "outputId": "000b922e-208e-4d19-8c2a-f38c15e47f3f"
      },
      "outputs": [
        {
          "output_type": "stream",
          "name": "stdout",
          "text": [
            "(404, 13)\n",
            "(102, 13)\n"
          ]
        }
      ],
      "source": [
        "from keras.datasets import boston_housing\n",
        "\n",
        "(train_data, train_targets), (test_data, test_targets) = boston_housing.load_data()\n",
        "print(train_data.shape)\n",
        "print(test_data.shape)"
      ]
    },
    {
      "cell_type": "markdown",
      "source": [
        "Because all of the features in the dataset take on wildly different ranges of values, it is a good idea to scale some of the data to help the network train to the correct values.\n",
        "<br>\n",
        "<br>\n",
        "In this case we will scale the values by subtracting the mean of the feature and dividing by the standard deviation for each feature.  This leaves the feature centered around 0 with a unit standard deviation.\n",
        "\n"
      ],
      "metadata": {
        "id": "LElmitk7og2n"
      }
    },
    {
      "cell_type": "code",
      "source": [
        "# Calculate the mean of the training data and then apply it\n",
        "mean = train_data.mean(axis=0)\n",
        "train_data-=mean\n",
        "\n",
        "# Calculate the standard deviation of the training data, then apply it\n",
        "std = train_data.std(axis=0)\n",
        "train_data/=std\n",
        "\n",
        "# Apply the mean and standard deviation values of the train data to the test data\n",
        "test_data-=mean\n",
        "test_data/=std"
      ],
      "metadata": {
        "id": "n_OGEyfPoZ65"
      },
      "execution_count": 2,
      "outputs": []
    },
    {
      "cell_type": "code",
      "source": [
        ""
      ],
      "metadata": {
        "id": "2IzZaR8SpiOS"
      },
      "execution_count": 2,
      "outputs": []
    },
    {
      "cell_type": "markdown",
      "source": [
        "# Build the Network"
      ],
      "metadata": {
        "id": "UYOmhj2BpjIw"
      }
    },
    {
      "cell_type": "code",
      "source": [
        "from keras import models\n",
        "from keras import layers\n",
        "\n",
        "def build_model():\n",
        "    model = models.Sequential()\n",
        "    model.add(layers.Dense(64, activation = 'relu',\n",
        "                           input_shape = (train_data.shape[1],)))\n",
        "    model.add(layers.Dense(64, activation = 'relu'))\n",
        "    model.add(layers.Dense(1))\n",
        "    model.compile(optimizer='rmsprop',\n",
        "                  loss='mse',\n",
        "                  metrics=['mae'])\n",
        "    return model"
      ],
      "metadata": {
        "id": "LUeTylPSqkow"
      },
      "execution_count": 3,
      "outputs": []
    },
    {
      "cell_type": "markdown",
      "source": [
        "### Validating our approach using K-fold cross-validation\n",
        "\n",
        "Because we have so few samples, it would be wasteful to further split our training set into a partial training and validation set."
      ],
      "metadata": {
        "id": "r76SVtLxsKaW"
      }
    },
    {
      "cell_type": "code",
      "source": [
        "import numpy as np\n",
        "\n",
        "k = 4\n",
        "num_val_samples = len(train_data) // k\n",
        "num_epochs = 100\n",
        "all_scores = [] # Store scores from cross_validations   "
      ],
      "metadata": {
        "id": "G0nLwBNlrIyB"
      },
      "execution_count": 4,
      "outputs": []
    },
    {
      "cell_type": "code",
      "source": [
        "for i in range(k):\n",
        "    print(f'Processing fold: {i}')\n",
        "    val_data = train_data[i * num_val_samples: (i + 1) * num_val_samples] # Prepares the validation data for the \"i-th\" partition\n",
        "    val_targets = train_targets[i * num_val_samples: (i + 1) * num_val_samples]\n",
        "\n",
        "    partial_train_data = np.concatenate([train_data[:i * num_val_samples], # Prepares training data from all other partitions\n",
        "                                         train_data[(i + 1) * num_val_samples:]],\n",
        "                                        axis = 0)\n",
        "    partial_train_targets = np.concatenate([train_targets[:i * num_val_samples],\n",
        "                                           train_targets[(i + 1) * num_val_samples:]],\n",
        "                                           axis = 0)\n",
        "    \n",
        "    model = build_model() # Builds the previously compiled model\n",
        "    model.fit(partial_train_data, partial_train_targets,\n",
        "              epochs = num_epochs, batch_size=1, verbose = 0)\n",
        "    val_mse, val_mae = model.evaluate(val_data, val_targets, verbose = 0)\n",
        "    all_scores.append(val_mae)"
      ],
      "metadata": {
        "colab": {
          "base_uri": "https://localhost:8080/"
        },
        "id": "SRtldqvgsjPi",
        "outputId": "bd845180-f87c-41cf-cffa-cd23b6a489d7"
      },
      "execution_count": 5,
      "outputs": [
        {
          "output_type": "stream",
          "name": "stdout",
          "text": [
            "Processing fold: 0\n",
            "Processing fold: 1\n",
            "Processing fold: 2\n",
            "Processing fold: 3\n"
          ]
        }
      ]
    },
    {
      "cell_type": "code",
      "source": [
        "print(all_scores)\n",
        "print(np.mean(all_scores))"
      ],
      "metadata": {
        "colab": {
          "base_uri": "https://localhost:8080/"
        },
        "id": "gTME4oTBzXjl",
        "outputId": "15268fc8-b72c-4c66-8ad0-db287c23fa80"
      },
      "execution_count": 6,
      "outputs": [
        {
          "output_type": "stream",
          "name": "stdout",
          "text": [
            "[1.9634917974472046, 2.665093421936035, 2.6373040676116943, 2.3359241485595703]\n",
            "2.400453358888626\n"
          ]
        }
      ]
    },
    {
      "cell_type": "code",
      "source": [
        "# The following block of code will save the validation logs at each fold\n",
        "\n",
        "num_epochs = 500\n",
        "all_mae_histories = []\n",
        "\n",
        "for i in range(k):\n",
        "    print(f'Processing fold: {i}')\n",
        "    val_data = train_data[i * num_val_samples: (i + 1) * num_val_samples] # Prepares the validation data for the \"i-th\" partition\n",
        "    val_targets = train_targets[i * num_val_samples: (i + 1) * num_val_samples]\n",
        "\n",
        "    partial_train_data = np.concatenate([train_data[:i * num_val_samples], # Prepares training data from all other partitions\n",
        "                                         train_data[(i + 1) * num_val_samples:]],\n",
        "                                        axis = 0)\n",
        "    partial_train_targets = np.concatenate([train_targets[:i * num_val_samples],\n",
        "                                           train_targets[(i + 1) * num_val_samples:]],\n",
        "                                           axis = 0)\n",
        "    \n",
        "    model = build_model()\n",
        "    history = model.fit(partial_train_data, partial_train_targets,\n",
        "                        validation_data = (val_data, val_targets),\n",
        "                        epochs = num_epochs,\n",
        "                        batch_size  = 1, verbose  = 0)\n"
      ],
      "metadata": {
        "colab": {
          "base_uri": "https://localhost:8080/"
        },
        "id": "RWeltDXnzemc",
        "outputId": "99cbc80b-5376-49d2-b550-82f25febf760"
      },
      "execution_count": 7,
      "outputs": [
        {
          "output_type": "stream",
          "name": "stdout",
          "text": [
            "Processing fold: 0\n",
            "Processing fold: 1\n",
            "Processing fold: 2\n",
            "Processing fold: 3\n"
          ]
        }
      ]
    },
    {
      "cell_type": "code",
      "source": [
        "    print(history.history.keys())\n",
        "    mae_history = history.history['val_mae']\n",
        "    all_mae_histories.append(mae_history)"
      ],
      "metadata": {
        "colab": {
          "base_uri": "https://localhost:8080/"
        },
        "id": "7Tn1A2RK11GQ",
        "outputId": "7f0c8622-7901-4cc9-c1fa-5cf3fb3c2a6c"
      },
      "execution_count": 8,
      "outputs": [
        {
          "output_type": "stream",
          "name": "stdout",
          "text": [
            "dict_keys(['loss', 'mae', 'val_loss', 'val_mae'])\n"
          ]
        }
      ]
    },
    {
      "cell_type": "markdown",
      "source": [
        "### Diving into the results"
      ],
      "metadata": {
        "id": "mw30057iyow-"
      }
    },
    {
      "cell_type": "code",
      "source": [
        "# Build the history of successive mean k-fold cross-validation scores\n",
        "average_mae_history = [np.mean([x[i] for x in all_mae_histories]) for i in range(num_epochs)]"
      ],
      "metadata": {
        "id": "NUafnK-tuTFJ"
      },
      "execution_count": 9,
      "outputs": []
    },
    {
      "cell_type": "code",
      "source": [
        "# Plot the validation scores\n",
        "\n",
        "import matplotlib.pyplot as plt\n",
        "plt.plot(range(1, len(average_mae_history) + 1), average_mae_history)\n",
        "plt.xlabel('Epochs')\n",
        "plt.ylabel('Validation MAE')\n",
        "plt.show()"
      ],
      "metadata": {
        "colab": {
          "base_uri": "https://localhost:8080/",
          "height": 279
        },
        "id": "YceyArls0TT_",
        "outputId": "cecfee43-9576-4478-a782-488bb346f96d"
      },
      "execution_count": 10,
      "outputs": [
        {
          "output_type": "display_data",
          "data": {
            "image/png": "[encoded data removed]",
            "text/plain": [
              "<Figure size 432x288 with 1 Axes>"
            ]
          },
          "metadata": {
            "needs_background": "light"
          }
        }
      ]
    },
    {
      "cell_type": "code",
      "source": [
        "# The plot above shows high variance and some scaling issues\n",
        "# Remove the first 3 observations to clarify things a bit\n",
        "\n",
        "def smooth_curve(points, factor = 0.9):\n",
        "    smoothed_points = []\n",
        "    for point in points:\n",
        "        if smoothed_points:\n",
        "            previous = smoothed_points[-1]\n",
        "            smoothed_points.append(previous * factor + point * (1-factor))\n",
        "        else:\n",
        "            smoothed_points.append(point)\n",
        "    return smoothed_points\n",
        "\n",
        "smooth_mae_history = smooth_curve(average_mae_history[3:])\n",
        "\n",
        "plt.plot(range(1, len(smooth_mae_history) + 1), smooth_mae_history)\n",
        "plt.xlabel('Epochs')\n",
        "plt.ylabel('Validation MAE')\n",
        "plt.show()"
      ],
      "metadata": {
        "colab": {
          "base_uri": "https://localhost:8080/",
          "height": 279
        },
        "id": "3D1slTy-000s",
        "outputId": "c93df826-034d-4acc-f28f-575c14d464b5"
      },
      "execution_count": 11,
      "outputs": [
        {
          "output_type": "display_data",
          "data": {
            "image/png": "[encoded data removed]",
            "text/plain": [
              "<Figure size 432x288 with 1 Axes>"
            ]
          },
          "metadata": {
            "needs_background": "light"
          }
        }
      ]
    },
    {
      "cell_type": "markdown",
      "source": [
        "We can see clearly from the plot above that the model really starts to overfit around 100 epochs\n",
        "\n",
        "# Let's train a final model on all data, for 100 epochs"
      ],
      "metadata": {
        "id": "gVUW_5_H3kJA"
      }
    },
    {
      "cell_type": "code",
      "source": [
        "model = build_model() # Gets a fresh, compiled model\n",
        "model.fit(train_data, train_targets,\n",
        "          epochs = 100, batch_size = 16, verbose = 0)\n",
        "\n",
        "test_mse_score, test_mae_score = model.evaluate(test_data, test_targets)\n",
        "print(f'Mean absolute error of final model: {test_mae_score}')"
      ],
      "metadata": {
        "colab": {
          "base_uri": "https://localhost:8080/"
        },
        "id": "0YF0T8dF3UNm",
        "outputId": "ea38b962-504c-4d6b-aef3-939dc02eca57"
      },
      "execution_count": 13,
      "outputs": [
        {
          "output_type": "stream",
          "name": "stdout",
          "text": [
            "4/4 [==============================] - 0s 4ms/step - loss: 16.7979 - mae: 2.6315\n",
            "Mean absolute error of final model: 2.6314804553985596\n"
          ]
        }
      ]
    },
    {
      "cell_type": "code",
      "source": [
        ""
      ],
      "metadata": {
        "id": "XZtx_2Fk6iVx"
      },
      "execution_count": null,
      "outputs": []
    }
  ]
}