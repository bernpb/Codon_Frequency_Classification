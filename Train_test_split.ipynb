{
 "cells": [
  {
   "cell_type": "code",
   "execution_count": 1,
   "id": "e1b37a21-447f-4d2c-8cbb-f40784129164",
   "metadata": {},
   "outputs": [],
   "source": [
    "import pandas as pd\n",
    "import numpy as np\n",
    "from sklearn.model_selection import train_test_split"
   ]
  },
  {
   "cell_type": "code",
   "execution_count": 2,
   "id": "a9c22b4d-1103-49c5-b6c5-7cd8853bb8fb",
   "metadata": {},
   "outputs": [],
   "source": [
    "# Load the data from the csv file\n",
    "\n",
    "data = pd.read_csv('Data/codon_usage.csv', \n",
    "                  low_memory = False)"
   ]
  },
  {
   "cell_type": "code",
   "execution_count": 3,
   "id": "db6b1551-3bfb-49c4-a360-5d76afb284a1",
   "metadata": {},
   "outputs": [
    {
     "name": "stdout",
     "output_type": "stream",
     "text": [
      "<class 'pandas.core.frame.DataFrame'>\n",
      "RangeIndex: 13028 entries, 0 to 13027\n",
      "Data columns (total 69 columns):\n",
      " #   Column       Non-Null Count  Dtype  \n",
      "---  ------       --------------  -----  \n",
      " 0   Kingdom      13028 non-null  object \n",
      " 1   DNAtype      13028 non-null  int64  \n",
      " 2   SpeciesID    13028 non-null  int64  \n",
      " 3   Ncodons      13028 non-null  int64  \n",
      " 4   SpeciesName  13028 non-null  object \n",
      " 5   UUU          13028 non-null  object \n",
      " 6   UUC          13028 non-null  object \n",
      " 7   UUA          13028 non-null  float64\n",
      " 8   UUG          13028 non-null  float64\n",
      " 9   CUU          13028 non-null  float64\n",
      " 10  CUC          13028 non-null  float64\n",
      " 11  CUA          13028 non-null  float64\n",
      " 12  CUG          13028 non-null  float64\n",
      " 13  AUU          13028 non-null  float64\n",
      " 14  AUC          13028 non-null  float64\n",
      " 15  AUA          13028 non-null  float64\n",
      " 16  AUG          13028 non-null  float64\n",
      " 17  GUU          13028 non-null  float64\n",
      " 18  GUC          13028 non-null  float64\n",
      " 19  GUA          13028 non-null  float64\n",
      " 20  GUG          13028 non-null  float64\n",
      " 21  GCU          13028 non-null  float64\n",
      " 22  GCC          13028 non-null  float64\n",
      " 23  GCA          13028 non-null  float64\n",
      " 24  GCG          13028 non-null  float64\n",
      " 25  CCU          13028 non-null  float64\n",
      " 26  CCC          13028 non-null  float64\n",
      " 27  CCA          13028 non-null  float64\n",
      " 28  CCG          13028 non-null  float64\n",
      " 29  UGG          13028 non-null  float64\n",
      " 30  GGU          13028 non-null  float64\n",
      " 31  GGC          13028 non-null  float64\n",
      " 32  GGA          13028 non-null  float64\n",
      " 33  GGG          13028 non-null  float64\n",
      " 34  UCU          13028 non-null  float64\n",
      " 35  UCC          13028 non-null  float64\n",
      " 36  UCA          13028 non-null  float64\n",
      " 37  UCG          13028 non-null  float64\n",
      " 38  AGU          13028 non-null  float64\n",
      " 39  AGC          13028 non-null  float64\n",
      " 40  ACU          13028 non-null  float64\n",
      " 41  ACC          13028 non-null  float64\n",
      " 42  ACA          13028 non-null  float64\n",
      " 43  ACG          13028 non-null  float64\n",
      " 44  UAU          13028 non-null  float64\n",
      " 45  UAC          13028 non-null  float64\n",
      " 46  CAA          13028 non-null  float64\n",
      " 47  CAG          13028 non-null  float64\n",
      " 48  AAU          13028 non-null  float64\n",
      " 49  AAC          13028 non-null  float64\n",
      " 50  UGU          13028 non-null  float64\n",
      " 51  UGC          13028 non-null  float64\n",
      " 52  CAU          13028 non-null  float64\n",
      " 53  CAC          13028 non-null  float64\n",
      " 54  AAA          13028 non-null  float64\n",
      " 55  AAG          13028 non-null  float64\n",
      " 56  CGU          13028 non-null  float64\n",
      " 57  CGC          13028 non-null  float64\n",
      " 58  CGA          13028 non-null  float64\n",
      " 59  CGG          13028 non-null  float64\n",
      " 60  AGA          13028 non-null  float64\n",
      " 61  AGG          13028 non-null  float64\n",
      " 62  GAU          13028 non-null  float64\n",
      " 63  GAC          13028 non-null  float64\n",
      " 64  GAA          13028 non-null  float64\n",
      " 65  GAG          13028 non-null  float64\n",
      " 66  UAA          13028 non-null  float64\n",
      " 67  UAG          13028 non-null  float64\n",
      " 68  UGA          13028 non-null  float64\n",
      "dtypes: float64(62), int64(3), object(4)\n",
      "memory usage: 6.9+ MB\n"
     ]
    }
   ],
   "source": [
    "# Inspect the data\n",
    "data.info()\n"
   ]
  },
  {
   "cell_type": "code",
   "execution_count": 4,
   "id": "5fbd8271-f74e-42c7-9aee-64c676c0e550",
   "metadata": {},
   "outputs": [],
   "source": [
    "# Remove values from columns that cannot be returned as floats\n",
    "\n",
    "data = data[pd.to_numeric(data['UUU'], errors = 'coerce').notnull()]\n",
    "data = data[pd.to_numeric(data['UUC'], errors = 'coerce').notnull()]\n",
    "data['UUU'] = data['UUU'].astype('float')\n",
    "data['UUC'] = data['UUC'].astype('float')"
   ]
  },
  {
   "cell_type": "code",
   "execution_count": 5,
   "id": "8cb9b656-f415-4fc5-a911-fc900dce5070",
   "metadata": {},
   "outputs": [],
   "source": [
    "# Assign the label column to y\n",
    "# Drop the label column from the remainder of the dataset\n",
    "X = data.drop(columns = 'Kingdom')\n",
    "y = data.loc[:,'Kingdom']"
   ]
  },
  {
   "cell_type": "code",
   "execution_count": 6,
   "id": "4f0663ea-9387-47a1-9124-d3bbd662673e",
   "metadata": {},
   "outputs": [],
   "source": [
    "# Execute the train test split of the data\n",
    "X_train, X_test, y_train, y_test = train_test_split(X, y, \n",
    "                                                    random_state = 13)"
   ]
  },
  {
   "cell_type": "code",
   "execution_count": 7,
   "id": "65994170-2cd6-43bc-ad93-c1fb5c324684",
   "metadata": {},
   "outputs": [],
   "source": [
    "# Assign the labels to the training and testing data\n",
    "training_data = X_train\n",
    "training_data['Kingdom'] = y_train\n",
    "\n",
    "test_data = X_test\n",
    "test_data['Kingdom'] = y_test\n"
   ]
  },
  {
   "cell_type": "code",
   "execution_count": 8,
   "id": "23f22f43-60e9-436a-b4e1-c71a752b89ef",
   "metadata": {},
   "outputs": [],
   "source": [
    "# Save the training and testing datasets to their respective files\n",
    "\n",
    "training_data.to_csv('Data/train.csv')\n",
    "test_data.to_csv('Data/test.csv')"
   ]
  },
  {
   "cell_type": "code",
   "execution_count": null,
   "id": "e5e24c50-949e-4f8a-9057-23554f33a9bc",
   "metadata": {},
   "outputs": [],
   "source": []
  }
 ],
 "metadata": {
  "kernelspec": {
   "display_name": "Python [conda env:codon]",
   "language": "python",
   "name": "conda-env-codon-py"
  },
  "language_info": {
   "codemirror_mode": {
    "name": "ipython",
    "version": 3
   },
   "file_extension": ".py",
   "mimetype": "text/x-python",
   "name": "python",
   "nbconvert_exporter": "python",
   "pygments_lexer": "ipython3",
   "version": "3.7.12"
  }
 },
 "nbformat": 4,
 "nbformat_minor": 5
}
